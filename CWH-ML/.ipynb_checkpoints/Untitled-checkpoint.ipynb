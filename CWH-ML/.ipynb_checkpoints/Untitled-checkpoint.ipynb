{
 "cells": [
  {
   "cell_type": "code",
   "execution_count": 4,
   "id": "60f98f3a",
   "metadata": {},
   "outputs": [
    {
     "name": "stdout",
     "output_type": "stream",
     "text": [
      "[[ 23   4  32   3  57]\n",
      " [323 352  32  34   3]\n",
      " [ 32  43  23  24   3]]\n"
     ]
    }
   ],
   "source": [
    "import numpy as np\n",
    "oneDArray = np.array([[23,4,32,3,57],[323,352,32,34,3],[32,43,23,24,3]])\n",
    "print(oneDArray)"
   ]
  },
  {
   "cell_type": "code",
   "execution_count": 5,
   "id": "7e917f59",
   "metadata": {},
   "outputs": [],
   "source": [
    "testArray = np.array([[3,3,3],[2,133,43]])"
   ]
  },
  {
   "cell_type": "code",
   "execution_count": 6,
   "id": "77f92c45",
   "metadata": {},
   "outputs": [
    {
     "name": "stdout",
     "output_type": "stream",
     "text": [
      "[[1 1 1]\n",
      " [0 1 1]]\n"
     ]
    }
   ],
   "source": [
    "print(testArray%2)"
   ]
  },
  {
   "cell_type": "code",
   "execution_count": 7,
   "id": "d89cfd92",
   "metadata": {},
   "outputs": [
    {
     "name": "stdout",
     "output_type": "stream",
     "text": [
      "[[  3   3   3]\n",
      " [  2 133  43]]\n"
     ]
    }
   ],
   "source": [
    "print(testArray)"
   ]
  },
  {
   "cell_type": "code",
   "execution_count": 8,
   "id": "e0928349",
   "metadata": {},
   "outputs": [],
   "source": [
    "testArray = list(testArray)"
   ]
  },
  {
   "cell_type": "code",
   "execution_count": 9,
   "id": "68e108fa",
   "metadata": {},
   "outputs": [
    {
     "name": "stdout",
     "output_type": "stream",
     "text": [
      "[array([3, 3, 3]), array([  2, 133,  43])]\n"
     ]
    }
   ],
   "source": [
    "print(testArray)"
   ]
  },
  {
   "cell_type": "code",
   "execution_count": 10,
   "id": "a71324a3",
   "metadata": {},
   "outputs": [],
   "source": [
    "testArray = np.array([3,4,5])"
   ]
  },
  {
   "cell_type": "code",
   "execution_count": 11,
   "id": "cca141ba",
   "metadata": {},
   "outputs": [],
   "source": [
    "testArray = list(testArray)"
   ]
  },
  {
   "cell_type": "code",
   "execution_count": 12,
   "id": "7f213153",
   "metadata": {},
   "outputs": [
    {
     "name": "stdout",
     "output_type": "stream",
     "text": [
      "[3, 4, 5]\n"
     ]
    }
   ],
   "source": [
    "print(testArray)"
   ]
  },
  {
   "cell_type": "code",
   "execution_count": 13,
   "id": "cf89a26e",
   "metadata": {},
   "outputs": [],
   "source": [
    "testArray = np.array([[[3,2],[3,5]],[[3,2],[23,1]]])"
   ]
  },
  {
   "cell_type": "code",
   "execution_count": 14,
   "id": "1ffcfd3f",
   "metadata": {},
   "outputs": [
    {
     "name": "stdout",
     "output_type": "stream",
     "text": [
      "[[[ 3  2]\n",
      "  [ 3  5]]\n",
      "\n",
      " [[ 3  2]\n",
      "  [23  1]]]\n"
     ]
    }
   ],
   "source": [
    "print(testArray)"
   ]
  },
  {
   "cell_type": "code",
   "execution_count": 15,
   "id": "02ffce00",
   "metadata": {},
   "outputs": [
    {
     "name": "stdout",
     "output_type": "stream",
     "text": [
      "[[[ 3  3]\n",
      "  [ 3 23]]\n",
      "\n",
      " [[ 2  2]\n",
      "  [ 5  1]]]\n"
     ]
    }
   ],
   "source": [
    "print(testArray.T)"
   ]
  },
  {
   "cell_type": "code",
   "execution_count": 16,
   "id": "8474de91",
   "metadata": {},
   "outputs": [
    {
     "data": {
      "text/plain": [
       "array([[['3', '2'],\n",
       "        ['3', '5']],\n",
       "\n",
       "       [['3', '2'],\n",
       "        ['23', '1']]], dtype='<U11')"
      ]
     },
     "execution_count": 16,
     "metadata": {},
     "output_type": "execute_result"
    }
   ],
   "source": [
    "testArray.astype(str)"
   ]
  },
  {
   "cell_type": "code",
   "execution_count": null,
   "id": "fd153c38",
   "metadata": {},
   "outputs": [],
   "source": []
  }
 ],
 "metadata": {
  "kernelspec": {
   "display_name": "Python 3 (ipykernel)",
   "language": "python",
   "name": "python3"
  },
  "language_info": {
   "codemirror_mode": {
    "name": "ipython",
    "version": 3
   },
   "file_extension": ".py",
   "mimetype": "text/x-python",
   "name": "python",
   "nbconvert_exporter": "python",
   "pygments_lexer": "ipython3",
   "version": "3.9.12"
  }
 },
 "nbformat": 4,
 "nbformat_minor": 5
}
